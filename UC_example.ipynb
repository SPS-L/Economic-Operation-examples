{
 "cells": [
  {
   "cell_type": "markdown",
   "id": "future-tunisia",
   "metadata": {},
   "source": [
    "# UC example\n",
    "\n",
    "Exercise 14.1.2."
   ]
  },
  {
   "cell_type": "code",
   "execution_count": 1,
   "id": "young-development",
   "metadata": {},
   "outputs": [],
   "source": [
    "from pyomo.environ import *"
   ]
  },
  {
   "cell_type": "markdown",
   "id": "opposed-involvement",
   "metadata": {},
   "source": [
    "## a)"
   ]
  },
  {
   "cell_type": "code",
   "execution_count": 2,
   "id": "deadly-potato",
   "metadata": {},
   "outputs": [],
   "source": [
    "# define a new model\n",
    "model = ConcreteModel()\n",
    "\n",
    "# declare decision variables\n",
    "model.P1 = Var(domain=NonNegativeReals)\n",
    "model.P2 = Var(domain=NonNegativeReals)\n",
    "model.P3 = Var(domain=NonNegativeReals)\n",
    "model.uP1 = Var(domain=Binary)\n",
    "model.uP2 = Var(domain=Binary)\n",
    "model.uP3 = Var(domain=Binary)"
   ]
  },
  {
   "cell_type": "code",
   "execution_count": 3,
   "id": "solar-morrison",
   "metadata": {},
   "outputs": [],
   "source": [
    "# declare objective\n",
    "model.objective = Objective(\n",
    "    expr = (model.uP1*561+7.92*model.P1+0.001562*model.P1**2+\n",
    "            model.uP2*310+7.85*model.P2+0.00194*model.P2**2+\n",
    "            model.uP3*78+7.97*model.P3+0.00482*model.P3**2),\n",
    "    sense = minimize)"
   ]
  },
  {
   "cell_type": "code",
   "execution_count": 4,
   "id": "published-nigeria",
   "metadata": {},
   "outputs": [],
   "source": [
    "# declare constraints\n",
    "model.demand = Constraint(expr = model.P1+model.P2+model.P3==850)\n",
    "model.P1max = Constraint(expr = model.P1 <= model.uP1*600)\n",
    "model.P2max = Constraint(expr = model.P2 <= model.uP2*400)\n",
    "model.P3max = Constraint(expr = model.P3 <= model.uP3*200)\n",
    "model.P1min = Constraint(expr = model.P1 >= model.uP1*150)\n",
    "model.P2min = Constraint(expr = model.P2 >= model.uP2*100)\n",
    "model.P3min = Constraint(expr = model.P3 >= model.uP3*50)"
   ]
  },
  {
   "cell_type": "code",
   "execution_count": 5,
   "id": "cleared-lease",
   "metadata": {},
   "outputs": [
    {
     "name": "stdout",
     "output_type": "stream",
     "text": [
      "# ==========================================================\n",
      "# = Solver Results                                         =\n",
      "# ==========================================================\n",
      "# ----------------------------------------------------------\n",
      "#   Problem Information\n",
      "# ----------------------------------------------------------\n",
      "Problem: \n",
      "- Name: unknown\n",
      "  Lower bound: 8194.35612127651\n",
      "  Upper bound: 8194.356111782707\n",
      "  Number of objectives: 1\n",
      "  Number of constraints: 7\n",
      "  Number of variables: 6\n",
      "  Number of binary variables: 3\n",
      "  Number of integer variables: 0\n",
      "  Number of continuous variables: 3\n",
      "  Number of nonzeros: None\n",
      "  Sense: minimize\n",
      "  Number of disjunctions: 0\n",
      "# ----------------------------------------------------------\n",
      "#   Solver Information\n",
      "# ----------------------------------------------------------\n",
      "Solver: \n",
      "- Name: MindtPyOA\n",
      "  Status: ok\n",
      "  Message: None\n",
      "  User time: 0.3456723503768444\n",
      "  System time: None\n",
      "  Wallclock time: 0.3456723503768444\n",
      "  Termination condition: optimal\n",
      "  Termination message: None\n",
      "  Timing: initialization: 0.06512903608381748\n",
      "main loop: 0.2281723227351904\n",
      "main_timer_start_time: 6489043.271721963\n",
      "total: 0.3456723503768444\n",
      "  Iterations: 3\n",
      "  Best solution found time: 0.32611374370753765\n"
     ]
    }
   ],
   "source": [
    "# enable to save the dual variables\n",
    "model.dual = Suffix(direction=Suffix.IMPORT)\n",
    "\n",
    "# solve\n",
    "SolverFactory('mindtpy').solve(model).write()"
   ]
  },
  {
   "cell_type": "code",
   "execution_count": 6,
   "id": "controversial-offer",
   "metadata": {},
   "outputs": [
    {
     "name": "stdout",
     "output_type": "stream",
     "text": [
      "Cost =  8194.3561212702\n",
      "P1 =  393.1698369476973  MW\n",
      "P2 =  334.60375530925074  MW\n",
      "P3 =  122.2264077430519  MW\n",
      "Commit P1 =  1.0\n",
      "Commit P2 =  1.0\n",
      "Commit P3 =  1.0\n"
     ]
    }
   ],
   "source": [
    "print(\"Cost = \", model.objective())\n",
    "print(\"P1 = \", model.P1(), \" MW\")\n",
    "print(\"P2 = \", model.P2(), \" MW\")\n",
    "print(\"P3 = \", model.P3(), \" MW\")\n",
    "print(\"Commit P1 = \", model.uP1())\n",
    "print(\"Commit P2 = \", model.uP2())\n",
    "print(\"Commit P3 = \", model.uP3())"
   ]
  },
  {
   "cell_type": "markdown",
   "id": "integrated-relaxation",
   "metadata": {},
   "source": [
    "## b)"
   ]
  },
  {
   "cell_type": "code",
   "execution_count": 7,
   "id": "personalized-signal",
   "metadata": {},
   "outputs": [],
   "source": [
    "# define a new model\n",
    "model = ConcreteModel()\n",
    "\n",
    "# declare decision variables\n",
    "model.P1 = Var(domain=NonNegativeReals)\n",
    "model.P2 = Var(domain=NonNegativeReals)\n",
    "model.P3 = Var(domain=NonNegativeReals)\n",
    "model.uP1 = Var(domain=Binary)\n",
    "model.uP2 = Var(domain=Binary)\n",
    "model.uP3 = Var(domain=Binary)\n",
    "\n",
    "# declare objective\n",
    "model.objective = Objective(\n",
    "    expr = (model.uP1*459+6.48*model.P1+0.00128*model.P1**2+\n",
    "            model.uP2*310+7.85*model.P2+0.00194*model.P2**2+\n",
    "            model.uP3*78+7.97*model.P3+0.00482*model.P3**2),\n",
    "    sense = minimize)\n",
    "\n",
    "# declare constraints\n",
    "model.demand = Constraint(expr = model.P1+model.P2+model.P3==850)\n",
    "model.P1max = Constraint(expr = model.P1 <= model.uP1*600)\n",
    "model.P2max = Constraint(expr = model.P2 <= model.uP2*400)\n",
    "model.P3max = Constraint(expr = model.P3 <= model.uP3*200)\n",
    "model.P1min = Constraint(expr = model.P1 >= model.uP1*150)\n",
    "model.P2min = Constraint(expr = model.P2 >= model.uP2*100)\n",
    "model.P3min = Constraint(expr = model.P3 >= model.uP3*50)"
   ]
  },
  {
   "cell_type": "code",
   "execution_count": 8,
   "id": "theoretical-transportation",
   "metadata": {},
   "outputs": [
    {
     "name": "stdout",
     "output_type": "stream",
     "text": [
      "# ==========================================================\n",
      "# = Solver Results                                         =\n",
      "# ==========================================================\n",
      "# ----------------------------------------------------------\n",
      "#   Problem Information\n",
      "# ----------------------------------------------------------\n",
      "Problem: \n",
      "- Name: unknown\n",
      "  Lower bound: 7201.55\n",
      "  Upper bound: 7201.549987484101\n",
      "  Number of objectives: 1\n",
      "  Number of constraints: 7\n",
      "  Number of variables: 6\n",
      "  Number of binary variables: 3\n",
      "  Number of integer variables: 0\n",
      "  Number of continuous variables: 3\n",
      "  Number of nonzeros: None\n",
      "  Sense: minimize\n",
      "  Number of disjunctions: 0\n",
      "# ----------------------------------------------------------\n",
      "#   Solver Information\n",
      "# ----------------------------------------------------------\n",
      "Solver: \n",
      "- Name: MindtPyOA\n",
      "  Status: ok\n",
      "  Message: None\n",
      "  User time: 0.28858581464737654\n",
      "  System time: None\n",
      "  Wallclock time: 0.28858581464737654\n",
      "  Termination condition: optimal\n",
      "  Termination message: None\n",
      "  Timing: initialization: 0.0782693438231945\n",
      "main loop: 0.20566789153963327\n",
      "main_timer_start_time: 6489043.662397715\n",
      "total: 0.28858581464737654\n",
      "  Iterations: 3\n",
      "  Best solution found time: 0.26377380918711424\n"
     ]
    }
   ],
   "source": [
    "# enable to save the dual variables\n",
    "model.dual = Suffix(direction=Suffix.IMPORT)\n",
    "\n",
    "# solve\n",
    "SolverFactory('mindtpy').solve(model).write()"
   ]
  },
  {
   "cell_type": "code",
   "execution_count": 9,
   "id": "integrated-transportation",
   "metadata": {},
   "outputs": [
    {
     "name": "stdout",
     "output_type": "stream",
     "text": [
      "Cost =  7201.549995171596\n",
      "P1 =  600.0000059968831  MW\n",
      "P2 =  249.99999399498645  MW\n",
      "P3 =  8.130331925512843e-09  MW\n",
      "Incremental cost =  None  $\n",
      "Commit P1 =  1.0\n",
      "Commit P2 =  1.0\n",
      "Commit P3 =  0.0\n"
     ]
    }
   ],
   "source": [
    "print(\"Cost = \", model.objective())\n",
    "print(\"P1 = \", model.P1(), \" MW\")\n",
    "print(\"P2 = \", model.P2(), \" MW\")\n",
    "print(\"P3 = \", model.P3(), \" MW\")\n",
    "print(\"Incremental cost = \", model.dual.get(model.demand), \" $\")\n",
    "print(\"Commit P1 = \", model.uP1())\n",
    "print(\"Commit P2 = \", model.uP2())\n",
    "print(\"Commit P3 = \", model.uP3())"
   ]
  },
  {
   "cell_type": "markdown",
   "id": "floating-theorem",
   "metadata": {},
   "source": [
    "Compare the cost to the one of the ED b). Here, the cost is lower because we are allowed to shut down the non-economic unit."
   ]
  }
 ],
 "metadata": {
  "kernelspec": {
   "display_name": "Python 3",
   "language": "python",
   "name": "python3"
  },
  "language_info": {
   "codemirror_mode": {
    "name": "ipython",
    "version": 3
   },
   "file_extension": ".py",
   "mimetype": "text/x-python",
   "name": "python",
   "nbconvert_exporter": "python",
   "pygments_lexer": "ipython3",
   "version": "3.7.9"
  }
 },
 "nbformat": 4,
 "nbformat_minor": 5
}
