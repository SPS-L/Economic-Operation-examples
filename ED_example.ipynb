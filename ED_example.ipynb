{
 "cells": [
  {
   "cell_type": "markdown",
   "id": "pressed-dallas",
   "metadata": {},
   "source": [
    "# ED example\n",
    "\n",
    "The exercise was adapted from [[1]](#R1). Exercise 14.1.1.\n",
    "\n",
    "## a)\n",
    "\n",
    "We want to minimize the cost of supplying a 850 MW load using 3 generators with these characteristics:\n",
    "\n",
    "1. $P_1^{max}=600$ MW, $P_1^{min}=150$ MW, $H_1=510+7.2\\cdot P_1+0.00142 \\cdot P_1^2$\n",
    "2. $P_2^{max}=400$ MW, $P_2^{min}=100$ MW, $H_2=310+7.85\\cdot P_2+0.00194 \\cdot P_2^2$\n",
    "3. $P_3^{max}=200$ MW, $P_3^{min}=50$ MW, $H_3=78+7.97\\cdot P_3+0.00482 \\cdot P_3^2$\n",
    "\n",
    "With the fuel costs being $FC_1=1.1$, $FC_2=1$ and $FC_3=1$, the cost functions become:\n",
    "\n",
    "\n",
    "- $C_1(P_1)=561+7.92\\cdot P_1+0.001562 \\cdot P_1^2$ \\$/h\n",
    "- $C_2(P_2)=310+7.85\\cdot P_2+0.00194 \\cdot P_2^2$ \\$/h\n",
    "- $C_3(P_3)=78+7.97\\cdot P_3+0.00482 \\cdot P_3^2$ \\$/h\n",
    "\n"
   ]
  },
  {
   "cell_type": "code",
   "execution_count": 1,
   "id": "english-tender",
   "metadata": {},
   "outputs": [],
   "source": [
    "# import the Pyomo solver\n",
    "from pyomo.environ import *"
   ]
  },
  {
   "cell_type": "code",
   "execution_count": 2,
   "id": "dependent-dressing",
   "metadata": {},
   "outputs": [],
   "source": [
    "# define a new model\n",
    "model = ConcreteModel()\n",
    "\n",
    "# declare decision variables for three units\n",
    "model.P1 = Var(domain=NonNegativeReals)\n",
    "model.P2 = Var(domain=NonNegativeReals)\n",
    "model.P3 = Var(domain=NonNegativeReals)"
   ]
  },
  {
   "cell_type": "code",
   "execution_count": 3,
   "id": "useful-austria",
   "metadata": {},
   "outputs": [],
   "source": [
    "# declare objective\n",
    "model.objective = Objective(\n",
    "    expr = (561+7.92*model.P1+0.001562*model.P1**2+\n",
    "            310+7.85*model.P2+0.00194*model.P2**2+\n",
    "            78+7.97*model.P3+0.00482*model.P3**2),\n",
    "    sense = minimize)"
   ]
  },
  {
   "cell_type": "code",
   "execution_count": 4,
   "id": "disciplinary-feedback",
   "metadata": {},
   "outputs": [],
   "source": [
    "# declare constraints for demand\n",
    "model.demand = Constraint(expr = model.P1+model.P2+model.P3==850)"
   ]
  },
  {
   "cell_type": "code",
   "execution_count": 5,
   "id": "waiting-makeup",
   "metadata": {},
   "outputs": [],
   "source": [
    "# enable to save the dual variables\n",
    "model.dual = Suffix(direction=Suffix.IMPORT)"
   ]
  },
  {
   "cell_type": "code",
   "execution_count": 6,
   "id": "textile-morgan",
   "metadata": {},
   "outputs": [],
   "source": [
    "# solve the model\n",
    "SolverFactory('ipopt').solve(model, tee=False)"
   ]
  },
  {
   "cell_type": "code",
   "execution_count": 7,
   "id": "eastern-screening",
   "metadata": {},
   "outputs": [
    {
     "name": "stdout",
     "output_type": "stream",
     "text": [
      "Cost =  8194.356121270199\n",
      "P1 =  393.16983694477966  MW\n",
      "P2 =  334.60375531355845  MW\n",
      "P3 =  122.22640774166184  MW\n",
      "Incremental cost =  9.148262570609143  $\n"
     ]
    }
   ],
   "source": [
    "print(\"Cost = \", model.objective())\n",
    "print(\"P1 = \", model.P1(), \" MW\")\n",
    "print(\"P2 = \", model.P2(), \" MW\")\n",
    "print(\"P3 = \", model.P3(), \" MW\")\n",
    "print(\"Incremental cost = \", model.dual.get(model.demand), \" $\")"
   ]
  },
  {
   "cell_type": "markdown",
   "id": "affecting-architect",
   "metadata": {},
   "source": [
    "## b)\n",
    "\n",
    "With the $FC_1$ reduced to 0.9, the cost function of unit 1 changes to:\n",
    "\n",
    "$$C_1(P_1)=459+6.48\\cdot P_1+0.00128 \\cdot P_1^2\\ \\$/h$$ \n",
    "\n",
    "We first solve without any constraints:"
   ]
  },
  {
   "cell_type": "code",
   "execution_count": 8,
   "id": "numeric-faith",
   "metadata": {},
   "outputs": [],
   "source": [
    "# define a new model\n",
    "model = ConcreteModel()\n",
    "\n",
    "# declare decision variables for three units\n",
    "model.P1 = Var(domain=NonNegativeReals)\n",
    "model.P2 = Var(domain=NonNegativeReals)\n",
    "model.P3 = Var(domain=NonNegativeReals)\n",
    "\n",
    "# declare objective\n",
    "model.objective = Objective(\n",
    "    expr = (459+6.48*model.P1+0.00128*model.P1**2+\n",
    "            310+7.85*model.P2+0.00194*model.P2**2+\n",
    "            78+7.97*model.P3+0.00482*model.P3**2),\n",
    "    sense = minimize)\n",
    "\n",
    "# declare constraints for demand\n",
    "model.demand = Constraint(expr = model.P1+model.P2+model.P3==850)"
   ]
  },
  {
   "cell_type": "code",
   "execution_count": 9,
   "id": "impaired-tower",
   "metadata": {},
   "outputs": [
    {
     "name": "stdout",
     "output_type": "stream",
     "text": [
      "Cost =  7223.385813948322\n",
      "P1 =  705.1467484216384  MW\n",
      "P2 =  112.15867937582065  MW\n",
      "P3 =  32.69457220254095  MW\n",
      "Incremental cost =  8.285175675955866  $\n"
     ]
    }
   ],
   "source": [
    "# enable to save the dual variables\n",
    "model.dual = Suffix(direction=Suffix.IMPORT)\n",
    "\n",
    "# solve the model\n",
    "SolverFactory('ipopt').solve(model, tee=False)\n",
    "\n",
    "print(\"Cost = \", model.objective())\n",
    "print(\"P1 = \", model.P1(), \" MW\")\n",
    "print(\"P2 = \", model.P2(), \" MW\")\n",
    "print(\"P3 = \", model.P3(), \" MW\")\n",
    "print(\"Incremental cost = \", model.dual.get(model.demand), \" $\")"
   ]
  },
  {
   "cell_type": "markdown",
   "id": "greater-fraud",
   "metadata": {},
   "source": [
    "We see that units 1+3 are not within their limits. We re-solve adding the generator limits."
   ]
  },
  {
   "cell_type": "code",
   "execution_count": 10,
   "id": "national-cattle",
   "metadata": {},
   "outputs": [],
   "source": [
    "# define a new model\n",
    "model = ConcreteModel()\n",
    "\n",
    "# declare decision variables for three units\n",
    "model.P1 = Var(domain=NonNegativeReals)\n",
    "model.P2 = Var(domain=NonNegativeReals)\n",
    "model.P3 = Var(domain=NonNegativeReals)\n",
    "\n",
    "# declare objective\n",
    "model.objective = Objective(\n",
    "    expr = (459+6.48*model.P1+0.00128*model.P1**2+\n",
    "            310+7.85*model.P2+0.00194*model.P2**2+\n",
    "            78+7.97*model.P3+0.00482*model.P3**2),\n",
    "    sense = minimize)\n",
    "\n",
    "# declare constraints for demand and generation\n",
    "model.demand = Constraint(expr = model.P1+model.P2+model.P3==850)\n",
    "model.P1max = Constraint(expr = model.P1 <= 600)\n",
    "model.P2max = Constraint(expr = model.P2 <= 400)\n",
    "model.P3max = Constraint(expr = model.P3 <= 200)\n",
    "model.P1min = Constraint(expr = model.P1 >= 150)\n",
    "model.P2min = Constraint(expr = model.P2 >= 100)\n",
    "model.P3min = Constraint(expr = model.P3 >= 50)"
   ]
  },
  {
   "cell_type": "code",
   "execution_count": 11,
   "id": "third-nirvana",
   "metadata": {},
   "outputs": [
    {
     "name": "stdout",
     "output_type": "stream",
     "text": [
      "Cost =  7252.8303220859025\n",
      "P1 =  600.0000059955258  MW\n",
      "P2 =  187.1301732261155  MW\n",
      "P3 =  62.8698207783586  MW\n",
      "Incremental cost =  8.576065072086976  $\n"
     ]
    }
   ],
   "source": [
    "# enable to save the dual variables\n",
    "model.dual = Suffix(direction=Suffix.IMPORT)\n",
    "\n",
    "# solve the model\n",
    "SolverFactory('ipopt').solve(model, tee=False)\n",
    "\n",
    "print(\"Cost = \", model.objective())\n",
    "print(\"P1 = \", model.P1(), \" MW\")\n",
    "print(\"P2 = \", model.P2(), \" MW\")\n",
    "print(\"P3 = \", model.P3(), \" MW\")\n",
    "print(\"Incremental cost = \", model.dual.get(model.demand), \" $\")"
   ]
  },
  {
   "cell_type": "markdown",
   "id": "massive-joseph",
   "metadata": {},
   "source": [
    "We now see all the units are within limits. However, we have a higher cost compared to the uncostrained problem."
   ]
  },
  {
   "cell_type": "markdown",
   "id": "tired-worth",
   "metadata": {},
   "source": [
    "## c)\n",
    "\n",
    "Finally, we add the losses function and all the constraints:\n",
    "\n",
    "$$P_{\\mathrm{loss}}=0.00003 P_{G1}^{2}+0.00009 P_{G2}^{2}+0.00012 P_{G3}^{2}$$"
   ]
  },
  {
   "cell_type": "code",
   "execution_count": 12,
   "id": "pressed-proxy",
   "metadata": {},
   "outputs": [
    {
     "name": "stdout",
     "output_type": "stream",
     "text": [
      "Cost =  8344.592723075131\n",
      "P1 =  435.19842086273917  MW\n",
      "P2 =  299.9699666182852  MW\n",
      "P3 =  130.66058332744208  MW\n",
      "Incremental cost =  9.528363594150708  $\n"
     ]
    }
   ],
   "source": [
    "# define a new model\n",
    "model = ConcreteModel()\n",
    "\n",
    "# declare decision variables for three units\n",
    "model.P1 = Var(domain=NonNegativeReals)\n",
    "model.P2 = Var(domain=NonNegativeReals)\n",
    "model.P3 = Var(domain=NonNegativeReals)\n",
    "\n",
    "# declare objective\n",
    "model.objective = Objective(\n",
    "    expr = (561+7.92*model.P1+0.001562*model.P1**2+\n",
    "            310+7.85*model.P2+0.00194*model.P2**2+\n",
    "            78+7.97*model.P3+0.00482*model.P3**2),\n",
    "    sense = minimize)\n",
    "\n",
    "# declare constraints for demand and generation\n",
    "model.demand = Constraint(expr = model.P1+model.P2+model.P3==850+\n",
    "                          0.00003*model.P1**2+0.00009*model.P2**2+0.00012*model.P3**2)\n",
    "model.P1max = Constraint(expr = model.P1 <= 600)\n",
    "model.P2max = Constraint(expr = model.P2 <= 400)\n",
    "model.P3max = Constraint(expr = model.P3 <= 200)\n",
    "model.P1min = Constraint(expr = model.P1 >= 150)\n",
    "model.P2min = Constraint(expr = model.P2 >= 100)\n",
    "model.P3min = Constraint(expr = model.P3 >= 50)\n",
    "\n",
    "# enable to save the dual variables\n",
    "model.dual = Suffix(direction=Suffix.IMPORT)\n",
    "\n",
    "# solve the model\n",
    "SolverFactory('ipopt').solve(model, tee=False)\n",
    "\n",
    "print(\"Cost = \", model.objective())\n",
    "print(\"P1 = \", model.P1(), \" MW\")\n",
    "print(\"P2 = \", model.P2(), \" MW\")\n",
    "print(\"P3 = \", model.P3(), \" MW\")\n",
    "print(\"Incremental cost = \", model.dual.get(model.demand), \" $\")"
   ]
  },
  {
   "cell_type": "markdown",
   "id": "liberal-andrews",
   "metadata": {},
   "source": [
    "## References\n",
    "<a id=\"R1\">[1]</a> Wood, A. J., Wollenberg, B. F., & Sheble, G. B. (2014). Power generation, operation, and control (3rd ed.). Wiley-IEEE Press."
   ]
  },
  {
   "cell_type": "code",
   "execution_count": null,
   "id": "conceptual-stupid",
   "metadata": {},
   "outputs": [],
   "source": []
  }
 ],
 "metadata": {
  "kernelspec": {
   "display_name": "Python 3",
   "language": "python",
   "name": "python3"
  },
  "language_info": {
   "codemirror_mode": {
    "name": "ipython",
    "version": 3
   },
   "file_extension": ".py",
   "mimetype": "text/x-python",
   "name": "python",
   "nbconvert_exporter": "python",
   "pygments_lexer": "ipython3",
   "version": "3.7.9"
  }
 },
 "nbformat": 4,
 "nbformat_minor": 5
}
